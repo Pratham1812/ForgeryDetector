{
 "cells": [
  {
   "cell_type": "markdown",
   "metadata": {},
   "source": [
    "##### Extracting frames from Video"
   ]
  },
  {
   "cell_type": "code",
   "execution_count": 2,
   "metadata": {},
   "outputs": [],
   "source": [
    "import cv2  # OpenCV\n",
    "import os   # For file_handling"
   ]
  },
  {
   "cell_type": "code",
   "execution_count": 2,
   "metadata": {},
   "outputs": [
    {
     "name": "stdout",
     "output_type": "stream",
     "text": [
      "Completed frame extraction\n",
      "Total frames extracted: 1691 and saved in E:\\IITR-Acads\\Sem5\\ECN-316\\Course project\\Python Scripts\\001 Preliminarires\\extracted_frames\n"
     ]
    }
   ],
   "source": [
    "# Video path\n",
    "video_path = r\"E:\\IITR-Acads\\Sem5\\ECN-316\\Course project\\Python Scripts\\001 Preliminarires\\videoplayback.mp4\"\n",
    "\n",
    "# Define the output directory for extracted frames\n",
    "output_dir = r\"E:\\IITR-Acads\\Sem5\\ECN-316\\Course project\\Python Scripts\\001 Preliminarires\\extracted_frames\"\n",
    "\n",
    "# Create the output directory if it doesn't exist\n",
    "if not os.path.exists(output_dir):\n",
    "    os.makedirs(output_dir)\n",
    "\n",
    "# Load the video\n",
    "cap = cv2.VideoCapture(video_path)\n",
    "\n",
    "frame_count = 0\n",
    "\n",
    "# Loop through the video frames\n",
    "while cap.isOpened():\n",
    "    ret, frame = cap.read()     # ret = true if frame returnd, else false\n",
    "    \n",
    "    # Check if a frame was successfully read\n",
    "    if not ret:\n",
    "        print(\"Completed frame extraction\")\n",
    "        break\n",
    "\n",
    "    # Save the current frame as an image file in the output directory\n",
    "    frame_name = os.path.join(output_dir, f'frame_{frame_count:04d}.png')\n",
    "    cv2.imwrite(frame_name, frame)\n",
    "    frame_count += 1\n",
    "\n",
    "# Release the video capture object\n",
    "cap.release()\n",
    "\n",
    "print(f'Total frames extracted: {frame_count} and saved in {output_dir}')\n"
   ]
  },
  {
   "cell_type": "markdown",
   "metadata": {},
   "source": [
    "##### Apply convolution operations on extracted frames"
   ]
  },
  {
   "cell_type": "code",
   "execution_count": 3,
   "metadata": {},
   "outputs": [],
   "source": [
    "import numpy as np"
   ]
  },
  {
   "cell_type": "code",
   "execution_count": 4,
   "metadata": {},
   "outputs": [],
   "source": [
    "# Image Frame path\n",
    "frame_path = r\"E:\\IITR-Acads\\Sem5\\ECN-316\\Course project\\Python Scripts\\001 Preliminarires\\extracted_frames\\frame_0000.png\"\n",
    "image = cv2.imread(frame_path)\n"
   ]
  },
  {
   "cell_type": "code",
   "execution_count": 5,
   "metadata": {},
   "outputs": [
    {
     "data": {
      "text/plain": [
       "True"
      ]
     },
     "execution_count": 5,
     "metadata": {},
     "output_type": "execute_result"
    }
   ],
   "source": [
    "# Convert image to grayscale\n",
    "\n",
    "image = cv2.cvtColor(image, cv2.COLOR_BGR2GRAY)\n",
    "\n",
    "file_name = \"Grayscale_image.jpg\"\n",
    "\n",
    "output_path = f\"E:\\\\IITR-Acads\\\\Sem5\\\\ECN-316\\\\Course project\\\\Python Scripts\\\\001 Preliminarires\\\\filtered_image\\\\{file_name}\"\n",
    "cv2.imwrite(output_path, image)"
   ]
  },
  {
   "cell_type": "markdown",
   "metadata": {},
   "source": [
    "##### Gaussian kernel"
   ]
  },
  {
   "cell_type": "code",
   "execution_count": 6,
   "metadata": {},
   "outputs": [],
   "source": [
    "# Gaussain kernel\n",
    "kernel = np.array([[1, 2, 1],\n",
    "                   [2, 4, 2],\n",
    "                   [1, 2, 1]]) / 16  "
   ]
  },
  {
   "cell_type": "code",
   "execution_count": 7,
   "metadata": {},
   "outputs": [],
   "source": [
    "# Perform convolution\n",
    "convolved_image = cv2.filter2D(image, -1, kernel)"
   ]
  },
  {
   "cell_type": "code",
   "execution_count": 8,
   "metadata": {},
   "outputs": [
    {
     "data": {
      "text/plain": [
       "True"
      ]
     },
     "execution_count": 8,
     "metadata": {},
     "output_type": "execute_result"
    }
   ],
   "source": [
    "# Save convolved image\n",
    "\n",
    "file_name = \"gaussian_output.jpg\"\n",
    "\n",
    "output_path = f\"E:\\\\IITR-Acads\\\\Sem5\\\\ECN-316\\\\Course project\\\\Python Scripts\\\\001 Preliminarires\\\\filtered_image\\\\{file_name}\"\n",
    "cv2.imwrite(output_path, convolved_image)\n"
   ]
  },
  {
   "cell_type": "markdown",
   "metadata": {},
   "source": [
    "##### Laplacian (in horizontal and vertical direction)"
   ]
  },
  {
   "cell_type": "code",
   "execution_count": 9,
   "metadata": {},
   "outputs": [],
   "source": [
    "# Laplacian kernel\n",
    "kernel = np.array([[1, 1, 1],\n",
    "                   [1, -4, 1],\n",
    "                   [1, 1, 1]]) "
   ]
  },
  {
   "cell_type": "code",
   "execution_count": 10,
   "metadata": {},
   "outputs": [],
   "source": [
    "# Perform convolution\n",
    "convolved_image = cv2.filter2D(image, -1, kernel)"
   ]
  },
  {
   "cell_type": "code",
   "execution_count": 11,
   "metadata": {},
   "outputs": [
    {
     "data": {
      "text/plain": [
       "True"
      ]
     },
     "execution_count": 11,
     "metadata": {},
     "output_type": "execute_result"
    }
   ],
   "source": [
    "# Save convolved image\n",
    "\n",
    "file_name = \"Laplacian1_output.jpg\"\n",
    "\n",
    "output_path = f\"E:\\\\IITR-Acads\\\\Sem5\\\\ECN-316\\\\Course project\\\\Python Scripts\\\\001 Preliminarires\\\\filtered_image\\\\{file_name}\"\n",
    "cv2.imwrite(output_path, convolved_image)\n"
   ]
  },
  {
   "cell_type": "markdown",
   "metadata": {},
   "source": [
    "##### Laplacian (in horizontal, vertical and diagonal direction)"
   ]
  },
  {
   "cell_type": "code",
   "execution_count": 12,
   "metadata": {},
   "outputs": [],
   "source": [
    "# Laplacian kernel\n",
    "kernel = np.array([[1, 1, 1],\n",
    "                   [1, -8, 1],\n",
    "                   [1, 1, 1]]) "
   ]
  },
  {
   "cell_type": "code",
   "execution_count": 13,
   "metadata": {},
   "outputs": [],
   "source": [
    "# Perform convolution\n",
    "convolved_image = cv2.filter2D(image, -1, kernel)"
   ]
  },
  {
   "cell_type": "code",
   "execution_count": 14,
   "metadata": {},
   "outputs": [
    {
     "data": {
      "text/plain": [
       "True"
      ]
     },
     "execution_count": 14,
     "metadata": {},
     "output_type": "execute_result"
    }
   ],
   "source": [
    "# Save convolved image\n",
    "\n",
    "file_name = \"Laplacian2_output.jpg\"\n",
    "\n",
    "output_path = f\"E:\\\\IITR-Acads\\\\Sem5\\\\ECN-316\\\\Course project\\\\Python Scripts\\\\001 Preliminarires\\\\filtered_image\\\\{file_name}\"\n",
    "cv2.imwrite(output_path, convolved_image)"
   ]
  },
  {
   "cell_type": "markdown",
   "metadata": {},
   "source": [
    "##### Base image + Laplacian"
   ]
  },
  {
   "cell_type": "code",
   "execution_count": 15,
   "metadata": {},
   "outputs": [
    {
     "data": {
      "text/plain": [
       "True"
      ]
     },
     "execution_count": 15,
     "metadata": {},
     "output_type": "execute_result"
    }
   ],
   "source": [
    "highlighted_image = 0.5*image + 0.5*convolved_image\n",
    "\n",
    "file_name = \"Edge_Highlight_output.jpg\"\n",
    "\n",
    "output_path = f\"E:\\\\IITR-Acads\\\\Sem5\\\\ECN-316\\\\Course project\\\\Python Scripts\\\\001 Preliminarires\\\\filtered_image\\\\{file_name}\"\n",
    "cv2.imwrite(output_path, highlighted_image)"
   ]
  },
  {
   "cell_type": "markdown",
   "metadata": {},
   "source": [
    "##### Base image - Gaussian average"
   ]
  },
  {
   "cell_type": "code",
   "execution_count": 16,
   "metadata": {},
   "outputs": [],
   "source": [
    "# Gaussian kernel\n",
    "kernel = np.array([[1, 2, 1],\n",
    "                   [2, 4, 2],\n",
    "                   [1, 2, 1]]) / 16  \n",
    "\n",
    "# Perform convolution\n",
    "convolved_image = cv2.filter2D(image, -1, kernel)\n",
    "\n",
    "highboost_image = 0.5*image - 0.5*convolved_image"
   ]
  },
  {
   "cell_type": "code",
   "execution_count": 17,
   "metadata": {},
   "outputs": [
    {
     "data": {
      "text/plain": [
       "True"
      ]
     },
     "execution_count": 17,
     "metadata": {},
     "output_type": "execute_result"
    }
   ],
   "source": [
    "file_name = \"Unsharp_masking_output.jpg\"\n",
    "\n",
    "output_path = f\"E:\\\\IITR-Acads\\\\Sem5\\\\ECN-316\\\\Course project\\\\Python Scripts\\\\001 Preliminarires\\\\filtered_image\\\\{file_name}\"\n",
    "cv2.imwrite(output_path, highlighted_image)"
   ]
  },
  {
   "cell_type": "markdown",
   "metadata": {},
   "source": [
    "#### Kirsch Operator for Pixel edge intensity calculation"
   ]
  },
  {
   "cell_type": "code",
   "execution_count": 18,
   "metadata": {},
   "outputs": [],
   "source": [
    "# Kernels for Kirsch operator\n",
    "\n",
    "g_1 = np.array([[5, 5, 5],\n",
    "                [-3, 0, -3],\n",
    "                [-3, -3, -3]]) \n",
    "\n",
    "g_2 = np.array([[5, 5, -3],\n",
    "                [5, 0, -3],\n",
    "                [-3, -3, -3]]) \n",
    "\n",
    "g_3 = np.array([[5, -3, -3],\n",
    "                [5, 0, -3],\n",
    "                [5, -3, -3]]) \n",
    "\n",
    "g_4 = np.array([[-3, -3, -3],\n",
    "                [5, 0, -3],\n",
    "                [5, 5, -3]]) \n",
    "\n",
    "g_5 = np.array([[-3, -3, -3],\n",
    "                [-3, 0, -3],\n",
    "                [5, 5, 5]]) \n",
    "\n",
    "g_6 = np.array([[-3, -3, -3],\n",
    "                [-3, 0, 5],\n",
    "                [-3, 5, 5]])  \n",
    "\n",
    "g_7 = np.array([[-3, -3, 5],\n",
    "                [-3, 0, 5],\n",
    "                [-3, -3, 5]])  \n",
    "\n",
    "g_8 = np.array([[-3, 5, 5],\n",
    "                [-3, 0, 5],\n",
    "                [-3, -3, -3]])  \n"
   ]
  },
  {
   "cell_type": "code",
   "execution_count": 19,
   "metadata": {},
   "outputs": [],
   "source": [
    "d1 = cv2.filter2D(image, -1, g_1)\n",
    "d2 = cv2.filter2D(image, -1, g_2)\n",
    "d3 = cv2.filter2D(image, -1, g_3)\n",
    "d4 = cv2.filter2D(image, -1, g_4)\n",
    "d5 = cv2.filter2D(image, -1, g_5)\n",
    "d6 = cv2.filter2D(image, -1, g_6)\n",
    "d7 = cv2.filter2D(image, -1, g_7)\n",
    "d8 = cv2.filter2D(image, -1, g_8)\n",
    "\n",
    "dA = d1**2 + d2**2 + d3**2 + d4**2 + d5**2 + d6**2 + d7**2 + d8**2"
   ]
  },
  {
   "cell_type": "code",
   "execution_count": 20,
   "metadata": {},
   "outputs": [
    {
     "name": "stdout",
     "output_type": "stream",
     "text": [
      "0\n"
     ]
    }
   ],
   "source": [
    "# Check number of elements greater than threshold to get edge pixel number\n",
    "\n",
    "T = 1200    # From paper\n",
    "\n",
    "count = np.sum(dA >= T)\n",
    "\n",
    "print(count)"
   ]
  },
  {
   "cell_type": "code",
   "execution_count": 21,
   "metadata": {},
   "outputs": [
    {
     "name": "stdout",
     "output_type": "stream",
     "text": [
      "Min value in dA: 0\n",
      "Max value in dA: 254\n"
     ]
    }
   ],
   "source": [
    "print(f'Min value in dA: {np.min(dA)}')\n",
    "print(f'Max value in dA: {np.max(dA)}')"
   ]
  },
  {
   "cell_type": "markdown",
   "metadata": {},
   "source": [
    "##### In above code, elements are clipping to 0 to 255, so modify accordingly"
   ]
  },
  {
   "cell_type": "code",
   "execution_count": 22,
   "metadata": {},
   "outputs": [],
   "source": [
    "# Assuming image is already loaded\n",
    "image_float = image.astype(np.float32)  # Convert to float32 for calculations\n",
    "\n",
    "# Filter with higher precision\n",
    "d1 = cv2.filter2D(image_float, -1, g_1)\n",
    "d2 = cv2.filter2D(image_float, -1, g_2)\n",
    "d3 = cv2.filter2D(image_float, -1, g_3)\n",
    "d4 = cv2.filter2D(image_float, -1, g_4)\n",
    "d5 = cv2.filter2D(image_float, -1, g_5)\n",
    "d6 = cv2.filter2D(image_float, -1, g_6)\n",
    "d7 = cv2.filter2D(image_float, -1, g_7)\n",
    "d8 = cv2.filter2D(image_float, -1, g_8)\n",
    "\n",
    "# Compute dA without clipping\n",
    "dA = d1**2 + d2**2 + d3**2 + d4**2 + d5**2 + d6**2 + d7**2 + d8**2"
   ]
  },
  {
   "cell_type": "code",
   "execution_count": 23,
   "metadata": {},
   "outputs": [
    {
     "name": "stdout",
     "output_type": "stream",
     "text": [
      "Min value in dA: 0.0\n",
      "Max value in dA: 37013876.0\n"
     ]
    }
   ],
   "source": [
    "print(f'Min value in dA: {np.min(dA)}')\n",
    "print(f'Max value in dA: {np.max(dA)}')"
   ]
  },
  {
   "cell_type": "code",
   "execution_count": 24,
   "metadata": {},
   "outputs": [
    {
     "data": {
      "text/plain": [
       "(640, 360)"
      ]
     },
     "execution_count": 24,
     "metadata": {},
     "output_type": "execute_result"
    }
   ],
   "source": [
    "np.shape(dA)"
   ]
  },
  {
   "cell_type": "code",
   "execution_count": 25,
   "metadata": {},
   "outputs": [
    {
     "data": {
      "text/plain": [
       "(640, 360)"
      ]
     },
     "execution_count": 25,
     "metadata": {},
     "output_type": "execute_result"
    }
   ],
   "source": [
    "np.shape(image)"
   ]
  },
  {
   "cell_type": "code",
   "execution_count": 26,
   "metadata": {},
   "outputs": [
    {
     "name": "stdout",
     "output_type": "stream",
     "text": [
      "63018\n"
     ]
    }
   ],
   "source": [
    "# Check number of elements greater than threshold to get edge pixel number\n",
    "\n",
    "T = 1200    # From paper\n",
    "\n",
    "count = 0\n",
    "count = np.sum(dA >= T)\n",
    "\n",
    "print(count)"
   ]
  },
  {
   "cell_type": "code",
   "execution_count": 27,
   "metadata": {},
   "outputs": [
    {
     "name": "stdout",
     "output_type": "stream",
     "text": [
      "0.273515625\n"
     ]
    }
   ],
   "source": [
    "# Divide by number of pixels in frame to get edge-intensity level\n",
    "\n",
    "height, width = dA.shape[:2]\n",
    "total_pixels = height * width\n",
    "\n",
    "edge_intensity = count/total_pixels\n",
    "\n",
    "print(edge_intensity)"
   ]
  },
  {
   "cell_type": "code",
   "execution_count": 28,
   "metadata": {},
   "outputs": [
    {
     "name": "stdout",
     "output_type": "stream",
     "text": [
      "Count of edge pixels: 63018\n",
      "Total pixels in frame: 230400\n",
      "Edge intensity: 0.273515625\n"
     ]
    }
   ],
   "source": [
    "print(f'Count of edge pixels: {count}')\n",
    "print(f'Total pixels in frame: {total_pixels}')\n",
    "print(f'Edge intensity: {edge_intensity}')\n"
   ]
  },
  {
   "cell_type": "markdown",
   "metadata": {},
   "source": [
    "#### Extract edge intensity level for all frames of the video (converted to grayscale)"
   ]
  },
  {
   "cell_type": "code",
   "execution_count": 29,
   "metadata": {},
   "outputs": [],
   "source": [
    "base_path = r\"E:\\IITR-Acads\\Sem5\\ECN-316\\Course project\\Python Scripts\\001 Preliminarires\\extracted_frames\"\n",
    "\n",
    "edge_intensity_arr = np.array([])\n",
    "\n",
    "for frame_file in os.listdir(base_path):\n",
    "    frame_path = os.path.join(base_path, frame_file)\n",
    "    frame_color = cv2.imread(frame_path)\n",
    "\n",
    "    frame = cv2.cvtColor(frame_color, cv2.COLOR_BGR2GRAY)\n",
    "\n",
    "    frame_float = frame.astype(np.float32)  # Convert to float32 for calculations\n",
    "\n",
    "    d1 = cv2.filter2D(frame_float, -1, g_1)\n",
    "    d2 = cv2.filter2D(frame_float, -1, g_2)\n",
    "    d3 = cv2.filter2D(frame_float, -1, g_3)\n",
    "    d4 = cv2.filter2D(frame_float, -1, g_4)\n",
    "    d5 = cv2.filter2D(frame_float, -1, g_5)\n",
    "    d6 = cv2.filter2D(frame_float, -1, g_6)\n",
    "    d7 = cv2.filter2D(frame_float, -1, g_7)\n",
    "    d8 = cv2.filter2D(frame_float, -1, g_8)\n",
    "\n",
    "    dA = d1**2 + d2**2 + d3**2 + d4**2 + d5**2 + d6**2 + d7**2 + d8**2\n",
    "\n",
    "    T = 1200    # From paper\n",
    "    count = 0\n",
    "    count = np.sum(dA >= T)\n",
    "\n",
    "    height, width = dA.shape[:2]\n",
    "    total_pixels = height * width\n",
    "    edge_intensity = count/total_pixels\n",
    "\n",
    "    edge_intensity_arr = np.append(edge_intensity_arr,edge_intensity)\n",
    "\n",
    "\n",
    "\n"
   ]
  },
  {
   "cell_type": "code",
   "execution_count": 30,
   "metadata": {},
   "outputs": [
    {
     "data": {
      "text/plain": [
       "array([0.27351562, 0.27084635, 0.27312934, ..., 0.30083767, 0.29982639,\n",
       "       0.29931858])"
      ]
     },
     "execution_count": 30,
     "metadata": {},
     "output_type": "execute_result"
    }
   ],
   "source": [
    "edge_intensity_arr"
   ]
  },
  {
   "cell_type": "code",
   "execution_count": 31,
   "metadata": {},
   "outputs": [
    {
     "data": {
      "image/png": "[encoded data removed]",
      "text/plain": [
       "<Figure size 1000x600 with 1 Axes>"
      ]
     },
     "metadata": {},
     "output_type": "display_data"
    }
   ],
   "source": [
    "import matplotlib.pyplot as plt\n",
    "\n",
    "indices = range(len(edge_intensity_arr))\n",
    "\n",
    "# Plotting\n",
    "plt.figure(figsize=(10, 6))\n",
    "plt.plot(indices, edge_intensity_arr)\n",
    "plt.title('Edge Intensities vs Frame Index')\n",
    "plt.xlabel('Frame Index')\n",
    "plt.ylabel('Edge Intensity')\n",
    "plt.grid(True)\n",
    "plt.xticks(indices)  \n",
    "plt.show()"
   ]
  },
  {
   "cell_type": "code",
   "execution_count": null,
   "metadata": {},
   "outputs": [],
   "source": []
  },
  {
   "cell_type": "code",
   "execution_count": null,
   "metadata": {},
   "outputs": [],
   "source": []
  },
  {
   "cell_type": "code",
   "execution_count": null,
   "metadata": {},
   "outputs": [],
   "source": []
  }
 ],
 "metadata": {
  "kernelspec": {
   "display_name": "base",
   "language": "python",
   "name": "python3"
  },
  "language_info": {
   "codemirror_mode": {
    "name": "ipython",
    "version": 3
   },
   "file_extension": ".py",
   "mimetype": "text/x-python",
   "name": "python",
   "nbconvert_exporter": "python",
   "pygments_lexer": "ipython3",
   "version": "3.10.9"
  }
 },
 "nbformat": 4,
 "nbformat_minor": 2
}
